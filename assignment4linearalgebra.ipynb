{
 "cells": [
  {
   "cell_type": "markdown",
   "metadata": {},
   "source": [
    "## Linear Algebra"
   ]
  },
  {
   "cell_type": "markdown",
   "metadata": {},
   "source": [
    "### LAB 4 ASSIGNMENT"
   ]
  },
  {
   "cell_type": "markdown",
   "metadata": {},
   "source": [
    "#### TASK 1 - Matrix Operation\n",
    "\n"
   ]
  },
  {
   "cell_type": "code",
   "execution_count": 11,
   "metadata": {},
   "outputs": [
    {
     "name": "stdout",
     "output_type": "stream",
     "text": [
      "Matrix A:\n",
      "[[ 2 -1]\n",
      " [ 0  3]]\n",
      "(2, 2)\n",
      "Matrix B:\n",
      "[[ 1  2]\n",
      " [-3  4]]\n",
      "(2, 2)\n"
     ]
    }
   ],
   "source": [
    "import numpy as np\n",
    "\n",
    "# Representation of matrices using numpy\n",
    "A = np.array([[2, -1], [0, 3]])\n",
    "B = np.array([[1, 2], [-3, 4]])\n",
    "\n",
    "print(\"Matrix A:\")\n",
    "print(A)\n",
    "print(A.shape)\n",
    "\n",
    "print(\"Matrix B:\")\n",
    "print(B)\n",
    "print(B.shape)\n",
    "\n"
   ]
  },
  {
   "cell_type": "markdown",
   "metadata": {},
   "source": [
    "##### a. A+B"
   ]
  },
  {
   "cell_type": "code",
   "execution_count": 12,
   "metadata": {},
   "outputs": [
    {
     "name": "stdout",
     "output_type": "stream",
     "text": [
      "Matrix A + B:\n",
      "[[ 3  1]\n",
      " [-3  7]]\n"
     ]
    }
   ],
   "source": [
    "C = A + B\n",
    "print(\"Matrix A + B:\")\n",
    "print(C)"
   ]
  },
  {
   "cell_type": "markdown",
   "metadata": {},
   "source": [
    "##### b. AB"
   ]
  },
  {
   "cell_type": "code",
   "execution_count": 13,
   "metadata": {},
   "outputs": [
    {
     "name": "stdout",
     "output_type": "stream",
     "text": [
      "\n",
      "Matrix AB (Product):\n",
      "[[ 5  0]\n",
      " [-9 12]]\n"
     ]
    }
   ],
   "source": [
    "D = np.dot(A, B)  \n",
    "print(\"Matrix AB (Product):\")\n",
    "print(D)"
   ]
  },
  {
   "cell_type": "markdown",
   "metadata": {},
   "source": [
    "##### c. 3A−2B"
   ]
  },
  {
   "cell_type": "code",
   "execution_count": 14,
   "metadata": {},
   "outputs": [
    {
     "name": "stdout",
     "output_type": "stream",
     "text": [
      "Matrix 3A-2B:\n",
      "[[ 4 -7]\n",
      " [ 6  1]]\n"
     ]
    }
   ],
   "source": [
    "E= 3*A-2*B\n",
    "print(\"Matrix 3A-2B:\")\n",
    "print(E)"
   ]
  },
  {
   "cell_type": "markdown",
   "metadata": {},
   "source": [
    "#### TASK 2 -  Determinants and Inverses  "
   ]
  },
  {
   "cell_type": "markdown",
   "metadata": {},
   "source": [
    "#####  Determinant of A."
   ]
  },
  {
   "cell_type": "code",
   "execution_count": 15,
   "metadata": {},
   "outputs": [
    {
     "data": {
      "text/plain": [
       "np.float64(6.0)"
      ]
     },
     "execution_count": 15,
     "metadata": {},
     "output_type": "execute_result"
    }
   ],
   "source": [
    "import numpy.linalg as LA \n",
    "LA.det(A)"
   ]
  },
  {
   "cell_type": "markdown",
   "metadata": {},
   "source": [
    "#####  Calculate A−1."
   ]
  },
  {
   "cell_type": "code",
   "execution_count": 16,
   "metadata": {},
   "outputs": [
    {
     "name": "stdout",
     "output_type": "stream",
     "text": [
      "Matrix A is invertible.\n",
      "Determinant of A: 6.0\n",
      "Inverse of A:\n",
      "[[0.5        0.16666667]\n",
      " [0.         0.33333333]]\n"
     ]
    }
   ],
   "source": [
    "if LA.det(A) != 0:\n",
    "    A_inv = LA.inv(A)\n",
    "    print(\"Matrix A is invertible.\")\n",
    "    print(\"Determinant of A:\", LA.det(A))\n",
    "    print(\"Inverse of A:\")\n",
    "    print(A_inv)\n",
    "else:\n",
    "    print(\"Matrix A is not invertible.\")"
   ]
  },
  {
   "cell_type": "markdown",
   "metadata": {},
   "source": [
    "#### TASK 4 - Eigenvalues and Eigenvectors"
   ]
  },
  {
   "cell_type": "markdown",
   "metadata": {},
   "source": [
    "#####  Eigenvalues and eigenvectors of the matrix: C=[[4    1], [​−2       1]​]"
   ]
  },
  {
   "cell_type": "code",
   "execution_count": 18,
   "metadata": {},
   "outputs": [
    {
     "name": "stdout",
     "output_type": "stream",
     "text": [
      "Matrix C:\n",
      "[[ 4  1]\n",
      " [-2  1]]\n",
      "Eigenvalue:\n",
      "[2. 3.]\n",
      " Eigenvector:\n",
      "[[ 1.         -0.70710678]\n",
      " [ 0.          0.70710678]]\n"
     ]
    }
   ],
   "source": [
    "C = np.array([[4, 1], [-2, 1]])\n",
    "\n",
    "# Compute eigenvalues and eigenvectors\n",
    "eigenvalues, eigenvectors = np.linalg.eig(A)\n",
    "\n",
    "# Print the results\n",
    "print(\"Matrix C:\")\n",
    "print(C)\n",
    "print(\"Eigenvalue:\")\n",
    "print(eigenvalues)\n",
    "print(\" Eigenvector:\")\n",
    "print(eigenvectors)"
   ]
  },
  {
   "cell_type": "markdown",
   "metadata": {},
   "source": [
    "#### TASK 4"
   ]
  },
  {
   "cell_type": "code",
   "execution_count": 26,
   "metadata": {},
   "outputs": [
    {
     "name": "stdout",
     "output_type": "stream",
     "text": [
      "Coefficients (β): [-0.00079866  0.00798658  0.00159732  0.19966456]\n",
      "Predicted price of car 3: 40.0007986582528\n"
     ]
    }
   ],
   "source": [
    "\n",
    "X = np.array([[1, 4, 1.5, 100], [1, 6, 2.0, 150]])\n",
    "y = np.array([20, 30])\n",
    "\n",
    "beta = np.linalg.pinv(X.T @ X) @ X.T @ y\n",
    "\n",
    "x3 = np.array([1, 8, 3.0, 200])\n",
    "\n",
    "price_car3 = x3 @ beta\n",
    "\n",
    "print(\"Coefficients (β):\", beta)\n",
    "print(\"Predicted price of car 3:\", price_car3)\n"
   ]
  }
 ],
 "metadata": {
  "kernelspec": {
   "display_name": "Python 3",
   "language": "python",
   "name": "python3"
  },
  "language_info": {
   "codemirror_mode": {
    "name": "ipython",
    "version": 3
   },
   "file_extension": ".py",
   "mimetype": "text/x-python",
   "name": "python",
   "nbconvert_exporter": "python",
   "pygments_lexer": "ipython3",
   "version": "3.13.0"
  }
 },
 "nbformat": 4,
 "nbformat_minor": 2
}
